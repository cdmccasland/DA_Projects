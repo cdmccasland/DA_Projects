{
 "cells": [
  {
   "cell_type": "code",
   "execution_count": 4,
   "id": "67b0b15e",
   "metadata": {},
   "outputs": [],
   "source": [
    "import numpy as np\n",
    "import pandas as pd\n",
    "import matplotlib.pyplot as plt"
   ]
  },
  {
   "cell_type": "code",
   "execution_count": 3,
   "id": "5052b6c9",
   "metadata": {},
   "outputs": [
    {
     "data": {
      "text/plain": [
       "<bound method NDFrame.head of            Date        Open        High         Low       Close   Adj Close  \\\n",
       "0    2022-05-20  139.089996  140.699997  132.610001  137.589996  136.773300   \n",
       "1    2022-05-23  137.789993  143.259995  137.649994  143.110001  142.260544   \n",
       "2    2022-05-24  140.809998  141.970001  137.330002  140.360001  139.526855   \n",
       "3    2022-05-25  138.429993  141.789993  138.339996  140.520004  139.685913   \n",
       "4    2022-05-26  137.389999  144.339996  137.139999  143.779999  142.926559   \n",
       "..          ...         ...         ...         ...         ...         ...   \n",
       "246  2023-05-15  173.160004  173.210007  171.470001  172.070007  172.070007   \n",
       "247  2023-05-16  171.990005  173.139999  171.800003  172.070007  172.070007   \n",
       "248  2023-05-17  171.710007  172.929993  170.419998  172.690002  172.690002   \n",
       "249  2023-05-18  173.000000  175.240005  172.580002  175.050003  175.050003   \n",
       "250  2023-05-19  176.389999  176.389999  174.940002  175.160004  175.160004   \n",
       "\n",
       "        Volume  \n",
       "0    137426100  \n",
       "1    117726300  \n",
       "2    104132700  \n",
       "3     92482700  \n",
       "4     90601500  \n",
       "..         ...  \n",
       "246   37266700  \n",
       "247   42110300  \n",
       "248   57951600  \n",
       "249   65496700  \n",
       "250   55772400  \n",
       "\n",
       "[251 rows x 7 columns]>"
      ]
     },
     "execution_count": 3,
     "metadata": {},
     "output_type": "execute_result"
    }
   ],
   "source": [
    "df = pd.read_csv(\"AAPL.csv\")\n",
    "df.head"
   ]
  },
  {
   "cell_type": "code",
   "execution_count": null,
   "id": "cb32390b",
   "metadata": {},
   "outputs": [],
   "source": []
  }
 ],
 "metadata": {
  "kernelspec": {
   "display_name": "Python 3 (ipykernel)",
   "language": "python",
   "name": "python3"
  },
  "language_info": {
   "codemirror_mode": {
    "name": "ipython",
    "version": 3
   },
   "file_extension": ".py",
   "mimetype": "text/x-python",
   "name": "python",
   "nbconvert_exporter": "python",
   "pygments_lexer": "ipython3",
   "version": "3.11.2"
  }
 },
 "nbformat": 4,
 "nbformat_minor": 5
}
